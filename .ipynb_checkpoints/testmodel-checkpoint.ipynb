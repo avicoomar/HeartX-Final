{
 "cells": [
  {
   "cell_type": "markdown",
   "metadata": {
    "id": "9hPzTj27V1Xq"
   },
   "source": [
    "# Machine Learning Model for Heart Disease Prediction \n",
    "#### This notebook creates a Machine Learning model which would be capable of predicting weather a person can have a heart disease or not, based on the given medical information "
   ]
  },
  {
   "cell_type": "markdown",
   "metadata": {
    "id": "eRqhK8NKWjwm"
   },
   "source": [
    "## What is Heart Disease?\n",
    "\n",
    "Heart disease describes a range of conditions that affect your heart. Heart diseases include:\n",
    "\n",
    "* Blood vessel disease, such as coronary artery disease\n",
    "* Heart rhythm problems (arrhythmias)\n",
    "* Heart defects you're born with (congenital heart defects)\n",
    "* Heart valve disease\n",
    "* Disease of the heart muscle\n",
    "* Heart infection\n",
    "Many forms of heart disease can be prevented or treated with healthy lifestyle choices."
   ]
  },
  {
   "cell_type": "markdown",
   "metadata": {
    "id": "Fhj4F1rGXEPH"
   },
   "source": [
    "## About Dataset\n",
    "\n",
    "https://www.kaggle.com/johnsmith88/heart-disease-dataset\n",
    "\n",
    "### Context\n",
    "This data set dates from 1988 and consists of four databases: Cleveland, Hungary, Switzerland, and Long Beach V. It contains 76 attributes, including the predicted attribute, but all published experiments refer to using a subset of 14 of them. The \"target\" field refers to the presence of heart disease in the patient. It is integer valued 0 = no disease and 1 = disease.\n",
    "\n",
    "\n",
    "### Content\n",
    "Attribute Information:\n",
    "\n",
    "1. age\n",
    "2. sex\n",
    "3. chest pain type (4 values)\n",
    "4. resting blood pressure\n",
    "5. serum cholestoral in mg/dl\n",
    "6. fasting blood sugar > 120 mg/dl\n",
    "7. resting electrocardiographic results (values 0,1,2)\n",
    "8. maximum heart rate achieved\n",
    "9. exercise induced angina\n",
    "10. oldpeak = ST depression induced by exercise relative to rest\n",
    "11. the slope of the peak exercise ST segment\n",
    "12. number of major vessels (0-3) colored by flourosopy\n",
    "13. thal: 0 = normal; 1 = fixed defect; 2 = reversable defect\n",
    "\n",
    "The names and social security numbers of the patients were recently removed from the database, replaced with dummy values."
   ]
  },
  {
   "cell_type": "markdown",
   "metadata": {
    "id": "6qvFRzJ8YYZZ"
   },
   "source": [
    "### Importing Packages"
   ]
  },
  {
   "cell_type": "code",
   "execution_count": 5,
   "metadata": {
    "executionInfo": {
     "elapsed": 923,
     "status": "ok",
     "timestamp": 1618329352487,
     "user": {
      "displayName": "ADNAN AZAM",
      "photoUrl": "",
      "userId": "03859024095735406786"
     },
     "user_tz": 0
    },
    "id": "IOVIP4NjzC1F"
   },
   "outputs": [
    {
     "ename": "ModuleNotFoundError",
     "evalue": "No module named 'matplotlib'",
     "output_type": "error",
     "traceback": [
      "\u001b[1;31m---------------------------------------------------------------------------\u001b[0m",
      "\u001b[1;31mModuleNotFoundError\u001b[0m                       Traceback (most recent call last)",
      "\u001b[1;32m<ipython-input-5-74cb0b2a0031>\u001b[0m in \u001b[0;36m<module>\u001b[1;34m\u001b[0m\n\u001b[0;32m      1\u001b[0m \u001b[1;32mimport\u001b[0m \u001b[0mpandas\u001b[0m \u001b[1;32mas\u001b[0m \u001b[0mpd\u001b[0m\u001b[1;33m\u001b[0m\u001b[1;33m\u001b[0m\u001b[0m\n\u001b[0;32m      2\u001b[0m \u001b[1;32mimport\u001b[0m \u001b[0mnumpy\u001b[0m \u001b[1;32mas\u001b[0m \u001b[0mnp\u001b[0m\u001b[1;33m\u001b[0m\u001b[1;33m\u001b[0m\u001b[0m\n\u001b[1;32m----> 3\u001b[1;33m \u001b[1;32mimport\u001b[0m \u001b[0mmatplotlib\u001b[0m\u001b[1;33m.\u001b[0m\u001b[0mpyplot\u001b[0m \u001b[1;32mas\u001b[0m \u001b[0mplt\u001b[0m\u001b[1;33m\u001b[0m\u001b[1;33m\u001b[0m\u001b[0m\n\u001b[0m\u001b[0;32m      4\u001b[0m \u001b[1;32mimport\u001b[0m \u001b[0mseaborn\u001b[0m \u001b[1;32mas\u001b[0m \u001b[0msns\u001b[0m\u001b[1;33m\u001b[0m\u001b[1;33m\u001b[0m\u001b[0m\n\u001b[0;32m      5\u001b[0m \u001b[1;32mfrom\u001b[0m \u001b[0msklearn\u001b[0m\u001b[1;33m.\u001b[0m\u001b[0mmodel_selection\u001b[0m \u001b[1;32mimport\u001b[0m \u001b[0mtrain_test_split\u001b[0m\u001b[1;33m,\u001b[0m\u001b[0mcross_val_score\u001b[0m\u001b[1;33m\u001b[0m\u001b[1;33m\u001b[0m\u001b[0m\n",
      "\u001b[1;31mModuleNotFoundError\u001b[0m: No module named 'matplotlib'"
     ]
    }
   ],
   "source": [
    "import pandas as pd\n",
    "import numpy as np\n",
    "import matplotlib.pyplot as plt\n",
    "import seaborn as sns\n",
    "from sklearn.model_selection import train_test_split,cross_val_score\n",
    "from sklearn.preprocessing import StandardScaler\n",
    "from sklearn.metrics import classification_report,confusion_matrix\n",
    "from lightgbm import LGBMClassifier"
   ]
  },
  {
   "cell_type": "markdown",
   "metadata": {
    "id": "akPLP2_tYmyy"
   },
   "source": [
    "### Importing Dataset"
   ]
  },
  {
   "cell_type": "code",
   "execution_count": null,
   "metadata": {
    "colab": {
     "base_uri": "https://localhost:8080/",
     "height": 204
    },
    "executionInfo": {
     "elapsed": 1138,
     "status": "ok",
     "timestamp": 1618329374298,
     "user": {
      "displayName": "ADNAN AZAM",
      "photoUrl": "",
      "userId": "03859024095735406786"
     },
     "user_tz": 0
    },
    "id": "3CLM7VdN1QeT",
    "outputId": "4657905a-bef2-441b-e973-be7cfb37792c"
   },
   "outputs": [],
   "source": [
    "df = pd.read_csv('/content/drive/MyDrive/Heart_Disease_Project/heart.csv')\n",
    "df.head()"
   ]
  },
  {
   "cell_type": "code",
   "execution_count": null,
   "metadata": {
    "colab": {
     "base_uri": "https://localhost:8080/"
    },
    "executionInfo": {
     "elapsed": 926,
     "status": "ok",
     "timestamp": 1617948103316,
     "user": {
      "displayName": "ADNAN AZAM",
      "photoUrl": "",
      "userId": "03859024095735406786"
     },
     "user_tz": 0
    },
    "id": "rutbK-Tx1mf7",
    "outputId": "9ebb8a42-649f-432b-c8e8-30b9ca284ca3"
   },
   "outputs": [],
   "source": [
    "df.info()"
   ]
  },
  {
   "cell_type": "code",
   "execution_count": null,
   "metadata": {
    "colab": {
     "base_uri": "https://localhost:8080/"
    },
    "executionInfo": {
     "elapsed": 974,
     "status": "ok",
     "timestamp": 1617948128437,
     "user": {
      "displayName": "ADNAN AZAM",
      "photoUrl": "",
      "userId": "03859024095735406786"
     },
     "user_tz": 0
    },
    "id": "94LaInjx2EaL",
    "outputId": "2cc6ff26-db6b-4235-cb90-1d4168d976d3"
   },
   "outputs": [],
   "source": [
    "df.isna().sum()"
   ]
  },
  {
   "cell_type": "code",
   "execution_count": null,
   "metadata": {
    "colab": {
     "base_uri": "https://localhost:8080/",
     "height": 317
    },
    "executionInfo": {
     "elapsed": 1185,
     "status": "ok",
     "timestamp": 1617901182773,
     "user": {
      "displayName": "ADNAN AZAM",
      "photoUrl": "",
      "userId": "03859024095735406786"
     },
     "user_tz": 240
    },
    "id": "UBvv4x7HbL-H",
    "outputId": "078ae11a-fecd-416a-f3ce-df044f7b83d4"
   },
   "outputs": [],
   "source": [
    "df.describe()"
   ]
  },
  {
   "cell_type": "code",
   "execution_count": null,
   "metadata": {
    "colab": {
     "base_uri": "https://localhost:8080/",
     "height": 279
    },
    "executionInfo": {
     "elapsed": 1587,
     "status": "ok",
     "timestamp": 1617901280446,
     "user": {
      "displayName": "ADNAN AZAM",
      "photoUrl": "",
      "userId": "03859024095735406786"
     },
     "user_tz": 240
    },
    "id": "z9xOsyA6bVj3",
    "outputId": "49235f27-b45f-4e5f-db1c-0659d049ee42"
   },
   "outputs": [],
   "source": [
    "df.target.value_counts().plot(kind=\"bar\")#this shows that our dataset is balanced!"
   ]
  },
  {
   "cell_type": "code",
   "execution_count": null,
   "metadata": {
    "colab": {
     "base_uri": "https://localhost:8080/",
     "height": 276
    },
    "executionInfo": {
     "elapsed": 1105,
     "status": "ok",
     "timestamp": 1617901472883,
     "user": {
      "displayName": "ADNAN AZAM",
      "photoUrl": "",
      "userId": "03859024095735406786"
     },
     "user_tz": 240
    },
    "id": "O65ieBMabVhJ",
    "outputId": "68c032e0-6eec-4fcc-fa69-1f819fa4d67f"
   },
   "outputs": [],
   "source": [
    "df.sex.value_counts().plot(kind=\"bar\")\n",
    "plt.xlabel(\"1 = Male                 0 = Female\");"
   ]
  },
  {
   "cell_type": "code",
   "execution_count": null,
   "metadata": {
    "colab": {
     "base_uri": "https://localhost:8080/",
     "height": 293
    },
    "executionInfo": {
     "elapsed": 1180,
     "status": "ok",
     "timestamp": 1617901864235,
     "user": {
      "displayName": "ADNAN AZAM",
      "photoUrl": "",
      "userId": "03859024095735406786"
     },
     "user_tz": 240
    },
    "id": "kEZr6aBZbVdn",
    "outputId": "655c6ed9-3144-4382-baa8-aa64cc01849e"
   },
   "outputs": [],
   "source": [
    "pd.crosstab(df[\"cp\"],df[\"target\"]).plot(kind=\"bar\");\n",
    "plt.xlabel(\"Type of Chest pain\")"
   ]
  },
  {
   "cell_type": "code",
   "execution_count": null,
   "metadata": {
    "colab": {
     "base_uri": "https://localhost:8080/",
     "height": 279
    },
    "executionInfo": {
     "elapsed": 1064,
     "status": "ok",
     "timestamp": 1617901910308,
     "user": {
      "displayName": "ADNAN AZAM",
      "photoUrl": "",
      "userId": "03859024095735406786"
     },
     "user_tz": 240
    },
    "id": "3jdJyE6abVbb",
    "outputId": "eb7c5fd7-401c-46cd-a5b8-45b8f23c48bb"
   },
   "outputs": [],
   "source": [
    "plt.scatter(df.age,df.thalach);\n",
    "plt.xlabel(\"Age\")\n",
    "plt.ylabel(\"Max Heart Rate\");"
   ]
  },
  {
   "cell_type": "code",
   "execution_count": null,
   "metadata": {
    "colab": {
     "base_uri": "https://localhost:8080/",
     "height": 400
    },
    "executionInfo": {
     "elapsed": 1060,
     "status": "ok",
     "timestamp": 1617902393931,
     "user": {
      "displayName": "ADNAN AZAM",
      "photoUrl": "",
      "userId": "03859024095735406786"
     },
     "user_tz": 240
    },
    "id": "ATgZwuJnbVYE",
    "outputId": "f5a9bb62-198b-4ca5-ff85-dc2af274b98b"
   },
   "outputs": [],
   "source": [
    "plt.figure(figsize=(10,6))\n",
    "plt.scatter(df.age[df.target == 0],df.chol[df.target == 0],c=\"g\")\n",
    "plt.scatter(df.age[df.target == 1],df.chol[df.target == 1],c=\"r\")\n",
    "plt.xlabel(\"Age                \\nReference:    Green = Safe Cholestrol        Red = Danger Cholestrol\")\n",
    "plt.ylabel(\"Cholestrol\");"
   ]
  },
  {
   "cell_type": "code",
   "execution_count": null,
   "metadata": {
    "colab": {
     "base_uri": "https://localhost:8080/",
     "height": 400
    },
    "executionInfo": {
     "elapsed": 1909,
     "status": "ok",
     "timestamp": 1617903021170,
     "user": {
      "displayName": "ADNAN AZAM",
      "photoUrl": "",
      "userId": "03859024095735406786"
     },
     "user_tz": 240
    },
    "id": "cESt8DD5bVWl",
    "outputId": "3f686578-1a25-410c-f92b-c360a7a27743"
   },
   "outputs": [],
   "source": [
    "plt.figure(figsize=(10,6))\n",
    "plt.scatter(df.age[df.target==0],df.trestbps[df.target==0],c=\"b\")\n",
    "plt.scatter(df.age[df.target==1],df.trestbps[df.target==1],c=\"r\")\n",
    "plt.xlabel(\"Age                \\nReference:    Blue = Safe Rest BP        Red = Danger Rest BP\")\n",
    "plt.ylabel(\"Resting BP\");"
   ]
  },
  {
   "cell_type": "code",
   "execution_count": null,
   "metadata": {
    "colab": {
     "base_uri": "https://localhost:8080/",
     "height": 574
    },
    "executionInfo": {
     "elapsed": 2846,
     "status": "ok",
     "timestamp": 1617905218782,
     "user": {
      "displayName": "ADNAN AZAM",
      "photoUrl": "",
      "userId": "03859024095735406786"
     },
     "user_tz": 240
    },
    "id": "Wh78JJjCqEA4",
    "outputId": "472137e3-f363-485e-8a93-3db9a23e4c0b"
   },
   "outputs": [],
   "source": [
    "corre = df.corr()\n",
    "plt.figure(figsize=(15,10))\n",
    "sns.heatmap(corre,annot=True,cbar=False);"
   ]
  },
  {
   "cell_type": "markdown",
   "metadata": {
    "id": "7so_OCLwjvV8"
   },
   "source": [
    "### Splitting our data into Train and Test"
   ]
  },
  {
   "cell_type": "code",
   "execution_count": null,
   "metadata": {
    "colab": {
     "base_uri": "https://localhost:8080/"
    },
    "executionInfo": {
     "elapsed": 929,
     "status": "ok",
     "timestamp": 1617953365189,
     "user": {
      "displayName": "ADNAN AZAM",
      "photoUrl": "",
      "userId": "03859024095735406786"
     },
     "user_tz": 0
    },
    "id": "WG0IYZFh2g86",
    "outputId": "1d9efd00-67f0-48b4-eee0-30ab33d33bc2"
   },
   "outputs": [],
   "source": [
    "from sklearn.model_selection import train_test_split\n",
    "X = df.drop([\"target\",],axis=1)\n",
    "y = df[\"target\"]\n",
    "X_train,X_test,y_train,y_test = train_test_split(X,y,test_size=0.2,random_state=10) \n",
    "X_train.shape,X_test.shape"
   ]
  },
  {
   "cell_type": "code",
   "execution_count": null,
   "metadata": {
    "id": "hjZZ-Ir14Zm4"
   },
   "outputs": [],
   "source": [
    "#from sklearn.preprocessing import StandardScaler\n",
    "#sc = StandardScaler()\n",
    "#scaled_X_train = sc.fit_transform(X_train)\n",
    "#scaled_X_test = sc.transform(X_test)"
   ]
  },
  {
   "cell_type": "markdown",
   "metadata": {
    "id": "kmN8xcl8kEhZ"
   },
   "source": [
    "### Initialising our model\n",
    "\n",
    "Here we are using lightGBM Classifier in order to train and predict on our dataset.\n",
    "\n",
    "#### About LGBM:\n",
    "It is a gradient boosting framework that makes use of tree based learning algorithms that is considered to be a very powerful algorithm when it comes to computation. It is considered to be a fast processing algorithm.\n",
    "\n",
    " \n",
    "\n",
    "While other algorithms trees grow horizontally, LightGBM algorithm grows vertically meaning it grows leaf-wise and other algorithms grow level-wise. LightGBM chooses the leaf with large loss to grow. It can lower down more loss than a level wise algorithm when growing the same leaf.\n",
    "\n"
   ]
  },
  {
   "cell_type": "code",
   "execution_count": 3,
   "metadata": {
    "colab": {
     "base_uri": "https://localhost:8080/"
    },
    "executionInfo": {
     "elapsed": 1501,
     "status": "ok",
     "timestamp": 1617953386175,
     "user": {
      "displayName": "ADNAN AZAM",
      "photoUrl": "",
      "userId": "03859024095735406786"
     },
     "user_tz": 0
    },
    "id": "PBTfbXkOph2e",
    "outputId": "a3e55418-de7a-426f-d5a1-19caaea83da7"
   },
   "outputs": [
    {
     "ename": "NameError",
     "evalue": "name 'LGBMClassifier' is not defined",
     "output_type": "error",
     "traceback": [
      "\u001b[1;31m---------------------------------------------------------------------------\u001b[0m",
      "\u001b[1;31mNameError\u001b[0m                                 Traceback (most recent call last)",
      "\u001b[1;32m<ipython-input-3-6dbeca2e456e>\u001b[0m in \u001b[0;36m<module>\u001b[1;34m\u001b[0m\n\u001b[1;32m----> 1\u001b[1;33m \u001b[0mmodel1\u001b[0m \u001b[1;33m=\u001b[0m \u001b[0mLGBMClassifier\u001b[0m\u001b[1;33m(\u001b[0m\u001b[1;33m)\u001b[0m\u001b[1;33m\u001b[0m\u001b[1;33m\u001b[0m\u001b[0m\n\u001b[0m\u001b[0;32m      2\u001b[0m \u001b[0mmodel1\u001b[0m\u001b[1;33m.\u001b[0m\u001b[0mfit\u001b[0m\u001b[1;33m(\u001b[0m\u001b[0mX_train\u001b[0m\u001b[1;33m,\u001b[0m\u001b[0my_train\u001b[0m\u001b[1;33m)\u001b[0m\u001b[1;33m\u001b[0m\u001b[1;33m\u001b[0m\u001b[0m\n\u001b[0;32m      3\u001b[0m \u001b[0mmodel1\u001b[0m\u001b[1;33m.\u001b[0m\u001b[0mscore\u001b[0m\u001b[1;33m(\u001b[0m\u001b[0mX_test\u001b[0m\u001b[1;33m,\u001b[0m\u001b[0my_test\u001b[0m\u001b[1;33m)\u001b[0m \u001b[1;31m#Accuracy\u001b[0m\u001b[1;33m\u001b[0m\u001b[1;33m\u001b[0m\u001b[0m\n",
      "\u001b[1;31mNameError\u001b[0m: name 'LGBMClassifier' is not defined"
     ]
    }
   ],
   "source": [
    "model1 = LGBMClassifier()\n",
    "model1.fit(X_train,y_train)\n",
    "model1.score(X_test,y_test) #Accuracy"
   ]
  },
  {
   "cell_type": "markdown",
   "metadata": {
    "id": "JQunOU9C6cld"
   },
   "source": [
    "### Evaluating the model"
   ]
  },
  {
   "cell_type": "code",
   "execution_count": null,
   "metadata": {
    "colab": {
     "base_uri": "https://localhost:8080/"
    },
    "executionInfo": {
     "elapsed": 1075,
     "status": "ok",
     "timestamp": 1617949662033,
     "user": {
      "displayName": "ADNAN AZAM",
      "photoUrl": "",
      "userId": "03859024095735406786"
     },
     "user_tz": 0
    },
    "id": "gR-SgZnR6xX_",
    "outputId": "14f0fac4-601d-45cb-c449-ea5ad38ead88"
   },
   "outputs": [],
   "source": [
    "#Classification Report\n",
    "y_preds = model1.predict(X_test)\n",
    "print(classification_report(y_true =y_test,y_pred =y_preds))\n"
   ]
  },
  {
   "cell_type": "code",
   "execution_count": null,
   "metadata": {
    "colab": {
     "base_uri": "https://localhost:8080/",
     "height": 265
    },
    "executionInfo": {
     "elapsed": 671,
     "status": "ok",
     "timestamp": 1617949664883,
     "user": {
      "displayName": "ADNAN AZAM",
      "photoUrl": "",
      "userId": "03859024095735406786"
     },
     "user_tz": 0
    },
    "id": "hRpkwa5gsObT",
    "outputId": "c2730719-df47-4a2b-d9ba-b81b14834528"
   },
   "outputs": [],
   "source": [
    "#Confusion Matrix\n",
    "cm = confusion_matrix(y_test,y_preds)\n",
    "sns.heatmap(cm,annot=True,cbar=False);"
   ]
  },
  {
   "cell_type": "code",
   "execution_count": null,
   "metadata": {
    "colab": {
     "base_uri": "https://localhost:8080/"
    },
    "executionInfo": {
     "elapsed": 1130,
     "status": "ok",
     "timestamp": 1617949668571,
     "user": {
      "displayName": "ADNAN AZAM",
      "photoUrl": "",
      "userId": "03859024095735406786"
     },
     "user_tz": 0
    },
    "id": "wzfGz1zZ9jyW",
    "outputId": "e88bea9d-5fc1-4b06-e9a3-d9a53bf8837d"
   },
   "outputs": [],
   "source": [
    "#Cross Validation Score\n",
    "cvs=cross_val_score(model1,X_train,y_train,cv=5,scoring=\"accuracy\")\n",
    "print(\"Accuracy = \",np.mean(cvs)*100)\n"
   ]
  },
  {
   "cell_type": "markdown",
   "metadata": {
    "id": "4NAxJkYf6EqC"
   },
   "source": [
    "### Feature Importance"
   ]
  },
  {
   "cell_type": "code",
   "execution_count": null,
   "metadata": {
    "colab": {
     "base_uri": "https://localhost:8080/",
     "height": 435
    },
    "executionInfo": {
     "elapsed": 2870,
     "status": "ok",
     "timestamp": 1617949802996,
     "user": {
      "displayName": "ADNAN AZAM",
      "photoUrl": "",
      "userId": "03859024095735406786"
     },
     "user_tz": 0
    },
    "id": "AY9LwoN8tIo8",
    "outputId": "d924de3c-b6bd-44d9-dcb7-bbe3c88bd297"
   },
   "outputs": [],
   "source": [
    "feature_imp = pd.DataFrame({'Value':model1.feature_importances_,'Feature':X_train.columns})\n",
    "plt.figure(figsize=(40, 20))\n",
    "sns.set(font_scale = 5)\n",
    "sns.barplot(x=\"Value\", y=\"Feature\", data=feature_imp.sort_values(by=\"Value\", ascending=False))\n",
    "plt.title('LightGBM Features')\n",
    "plt.tight_layout()\n",
    "#plt.savefig('lgbm_importances-01.png')\n"
   ]
  },
  {
   "cell_type": "markdown",
   "metadata": {
    "id": "R-g45iwF7L6q"
   },
   "source": [
    "## Final Model"
   ]
  },
  {
   "cell_type": "code",
   "execution_count": null,
   "metadata": {
    "colab": {
     "base_uri": "https://localhost:8080/"
    },
    "executionInfo": {
     "elapsed": 1365,
     "status": "ok",
     "timestamp": 1617909717837,
     "user": {
      "displayName": "ADNAN AZAM",
      "photoUrl": "",
      "userId": "03859024095735406786"
     },
     "user_tz": 240
    },
    "id": "4nQ8P3we5NwG",
    "outputId": "2b7a6fcc-f134-43a0-d341-05b927f9bf99"
   },
   "outputs": [],
   "source": [
    "model = LGBMClassifier()\n",
    "model.fit(X,y)\n",
    "model.score(X,y)"
   ]
  },
  {
   "cell_type": "markdown",
   "metadata": {
    "id": "lbtkuRl87Q8g"
   },
   "source": [
    "### Save and Load model"
   ]
  },
  {
   "cell_type": "code",
   "execution_count": 4,
   "metadata": {
    "executionInfo": {
     "elapsed": 1090,
     "status": "ok",
     "timestamp": 1618328243572,
     "user": {
      "displayName": "ADNAN AZAM",
      "photoUrl": "",
      "userId": "03859024095735406786"
     },
     "user_tz": 0
    },
    "id": "jlG94VRswZAG"
   },
   "outputs": [
    {
     "ename": "NameError",
     "evalue": "name 'model' is not defined",
     "output_type": "error",
     "traceback": [
      "\u001b[1;31m---------------------------------------------------------------------------\u001b[0m",
      "\u001b[1;31mNameError\u001b[0m                                 Traceback (most recent call last)",
      "\u001b[1;32m<ipython-input-4-d6ea94c4689b>\u001b[0m in \u001b[0;36m<module>\u001b[1;34m\u001b[0m\n\u001b[0;32m      1\u001b[0m \u001b[1;32mimport\u001b[0m \u001b[0mpickle\u001b[0m\u001b[1;33m\u001b[0m\u001b[1;33m\u001b[0m\u001b[0m\n\u001b[1;32m----> 2\u001b[1;33m \u001b[0mpickle\u001b[0m\u001b[1;33m.\u001b[0m\u001b[0mdump\u001b[0m\u001b[1;33m(\u001b[0m\u001b[0mmodel\u001b[0m\u001b[1;33m,\u001b[0m\u001b[0mopen\u001b[0m\u001b[1;33m(\u001b[0m\u001b[1;34m\"testmodel.pkl\"\u001b[0m\u001b[1;33m,\u001b[0m\u001b[1;34m\"wb\"\u001b[0m\u001b[1;33m)\u001b[0m\u001b[1;33m)\u001b[0m\u001b[1;33m\u001b[0m\u001b[1;33m\u001b[0m\u001b[0m\n\u001b[0m",
      "\u001b[1;31mNameError\u001b[0m: name 'model' is not defined"
     ]
    }
   ],
   "source": [
    "import pickle \n",
    "pickle.dump(model,open(\"testmodel.pkl\",\"wb\"))"
   ]
  },
  {
   "cell_type": "code",
   "execution_count": null,
   "metadata": {
    "colab": {
     "base_uri": "https://localhost:8080/"
    },
    "executionInfo": {
     "elapsed": 2339,
     "status": "ok",
     "timestamp": 1618328324576,
     "user": {
      "displayName": "ADNAN AZAM",
      "photoUrl": "",
      "userId": "03859024095735406786"
     },
     "user_tz": 0
    },
    "id": "1YXi-QnN4t2W",
    "outputId": "6bd906d5-909f-46ac-f32b-8385369323f7"
   },
   "outputs": [],
   "source": [
    "model_load = pickle.load(open(\"testmodel.pkl\",\"rb\"))\n",
    "model_load.predict([[65,1,2,200,200,250,1.8,2]])"
   ]
  },
  {
   "cell_type": "markdown",
   "metadata": {
    "id": "kAeYTyXs8W9h"
   },
   "source": [
    "# Final Features:\n",
    "1. age\n",
    "2. sex\n",
    "3. cp\n",
    "4. trestbps\n",
    "5. chol \n",
    "6. thalach\n",
    "7. oldpeak\n",
    "8. ca"
   ]
  },
  {
   "cell_type": "code",
   "execution_count": null,
   "metadata": {
    "id": "oW0zKnG8ZKqz"
   },
   "outputs": [],
   "source": []
  }
 ],
 "metadata": {
  "colab": {
   "authorship_tag": "ABX9TyP5CfUv+RrR1lnwZnti1w5R",
   "collapsed_sections": [],
   "mount_file_id": "1KRXNBSpAvy4oo1wGb9QrhmKcwTp_sziZ",
   "name": "MINI_PROJECT.ipynb",
   "provenance": [],
   "toc_visible": true
  },
  "kernelspec": {
   "display_name": "Python 3",
   "language": "python",
   "name": "python3"
  },
  "language_info": {
   "codemirror_mode": {
    "name": "ipython",
    "version": 3
   },
   "file_extension": ".py",
   "mimetype": "text/x-python",
   "name": "python",
   "nbconvert_exporter": "python",
   "pygments_lexer": "ipython3",
   "version": "3.7.4"
  }
 },
 "nbformat": 4,
 "nbformat_minor": 1
}
